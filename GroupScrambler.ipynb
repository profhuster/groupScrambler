{
 "cells": [
  {
   "cell_type": "markdown",
   "metadata": {},
   "source": [
    "# GroupScrambler\n",
    "This makes random groups from a list of students. When it scrambles existing groups to make new groups, the students are spread out so they are not likely to be in the same group for two consecutive sessions.\n",
    "\n",
    "`profhuster@gmail.com`\n",
    "\n",
    "2018-10-11"
   ]
  },
  {
   "cell_type": "code",
   "execution_count": 1,
   "metadata": {},
   "outputs": [],
   "source": [
    "from random import seed, shuffle\n",
    "import GroupScrambler as GS\n",
    "import os.path as OP\n",
    "seed(91101402)"
   ]
  },
  {
   "cell_type": "markdown",
   "metadata": {},
   "source": [
    "# To get started the first time a semester\n",
    "Run the cell above, then run **the very last cell**.\n",
    "\n",
    "You do not have to run the cell after that. "
   ]
  },
  {
   "cell_type": "code",
   "execution_count": 2,
   "metadata": {},
   "outputs": [
    {
     "name": "stdout",
     "output_type": "stream",
     "text": [
      "Enter the week (1-12)3\n",
      "GAP2_1 has 11 students\n",
      "Enter the number of groups 3?3\n",
      "GAP2_1\n",
      "3\n",
      "Nici Dela Rama, Emily Sipko, Allison Fry, Abdulloh Yoldoshev, \n",
      "Hannah Enderby, Joseph Ciniello, Carlan Gray, Maria Strish, \n",
      "Anelise McGee, Lindsey Ocheltree, Peter Demjanenko, \n",
      "\n",
      "GAP2_2 has 17 students\n",
      "Enter the number of groups 5?5\n",
      "GAP2_2\n",
      "5\n",
      "Hannah Jason, Kieran O'Sullivan, Jacob Schwab, Kezia Jemison, \n",
      "Nicholas Shaffer, Ethan Heltz, Alexis Throop, Hannah Lasko, \n",
      "Tyler Krah, Noah Worthy, Danielle Beres, \n",
      "Jonathan Wehner, Grant Cook, Ashley Banks, \n",
      "Alyssa Dawson, Cassidy Murphy, Taylor Teitelbaum, \n",
      "\n",
      "GAP2_3 has 6 students\n",
      "Enter the number of groups 2?2\n",
      "GAP2_3\n",
      "2\n",
      "Sean Recktenwald, Rebecca Nelson, Alec Ippolito, \n",
      "Willem Trainor, Katelyn Spadavecchia, Grant Clark, \n",
      "\n",
      "GAP2_4 has 19 students\n",
      "Enter the number of groups 5?5\n",
      "GAP2_4\n",
      "5\n",
      "Alexander Guy, Carley Reith, Nicole Bohatch, Rachel Pardee, \n",
      "Michelle Bohn, Ryan Luca, Holly McGarvey, Alexander Barr, \n",
      "Burton Carbino, Emily McCarty, Caitlin Greene, Ante Bevanda, \n",
      "Zachary Avondo, Stephanie Connell, Sarah Bergfelt, Christopher Stack, \n",
      "Gian Cuchapin, Shawn Bliss, Aidan Hill, \n",
      "\n"
     ]
    }
   ],
   "source": [
    "fName = 'GroupScramblerAll.txt'\n",
    "myClasses = GS.readClasses(fName)\n",
    "\n",
    "nWeeks = int(input(\"Enter the week (1-12)\"))\n",
    "\n",
    "for cl in myClasses:\n",
    "    print(\"{} has {} students\".format(cl.name, cl.nStudents))\n",
    "    suggestion = cl.nStudents // 4\n",
    "    if cl.nStudents % 4 > 0:\n",
    "        suggestion += 1\n",
    "    nGroups = int(input(f\"Enter the number of groups {suggestion}?\"))\n",
    "    seed(91101402)\n",
    "    for iWeek in range(nWeeks):\n",
    "        cl.makeGroups(nGroups)\n",
    "    print(cl)"
   ]
  },
  {
   "cell_type": "code",
   "execution_count": 3,
   "metadata": {
    "scrolled": false
   },
   "outputs": [
    {
     "name": "stdout",
     "output_type": "stream",
     "text": [
      "GAP2_1\n",
      "3\n",
      "Nici Dela Rama, Emily Sipko, Allison Fry, Abdulloh Yoldoshev, \n",
      "Hannah Enderby, Joseph Ciniello, Carlan Gray, Maria Strish, \n",
      "Anelise McGee, Lindsey Ocheltree, Peter Demjanenko, \n",
      "\n",
      "GAP2_2\n",
      "5\n",
      "Hannah Jason, Kieran O'Sullivan, Jacob Schwab, Kezia Jemison, \n",
      "Nicholas Shaffer, Ethan Heltz, Alexis Throop, Hannah Lasko, \n",
      "Tyler Krah, Noah Worthy, Danielle Beres, \n",
      "Jonathan Wehner, Grant Cook, Ashley Banks, \n",
      "Alyssa Dawson, Cassidy Murphy, Taylor Teitelbaum, \n",
      "\n",
      "GAP2_3\n",
      "2\n",
      "Sean Recktenwald, Rebecca Nelson, Alec Ippolito, \n",
      "Willem Trainor, Katelyn Spadavecchia, Grant Clark, \n",
      "\n",
      "GAP2_4\n",
      "5\n",
      "Alexander Guy, Carley Reith, Nicole Bohatch, Rachel Pardee, \n",
      "Michelle Bohn, Ryan Luca, Holly McGarvey, Alexander Barr, \n",
      "Burton Carbino, Emily McCarty, Caitlin Greene, Ante Bevanda, \n",
      "Zachary Avondo, Stephanie Connell, Sarah Bergfelt, Christopher Stack, \n",
      "Gian Cuchapin, Shawn Bliss, Aidan Hill, \n",
      "\n"
     ]
    }
   ],
   "source": [
    "# fName = 'GroupScrambler.txt'\n",
    "GS.writeClasses(myClasses, fName)\n",
    "myClasses = GS.readClasses(fName)\n",
    "for cl in myClasses:\n",
    "    print(cl)"
   ]
  },
  {
   "cell_type": "code",
   "execution_count": 4,
   "metadata": {},
   "outputs": [],
   "source": [
    "for (i, cl) in enumerate(myClasses):\n",
    "    fName = 'GroupScrambler{}.html'.format(myClasses[i].name)\n",
    "    GS.writeHTML(myClasses[i], fName, nWeeks)\n"
   ]
  },
  {
   "cell_type": "markdown",
   "metadata": {},
   "source": [
    "## Create Initial Data File\n",
    "\n",
    "## Only run the first time!!"
   ]
  },
  {
   "cell_type": "code",
   "execution_count": null,
   "metadata": {},
   "outputs": [],
   "source": [
    "class1 = \"\"\"Joseph Ciniello\n",
    "Nici Dela Rama\n",
    "Peter Demjanenko\n",
    "Hannah Enderby\n",
    "Allison Fry\n",
    "Carlan Gray\n",
    "Sean Korpics\n",
    "Anelise McGee\n",
    "Lindsey Ocheltree\n",
    "Emily Sipko\n",
    "Maria Strish\n",
    "Abdulloh Yoldoshev\"\"\".split('\\n')\n",
    "\n",
    "class2 = \"\"\"Ashley Banks\n",
    "Danielle Beres\n",
    "Michelle Bohn\n",
    "Grant Cook\n",
    "Alyssa Dawson\n",
    "Hannah Jason\n",
    "Kezia Jemison\n",
    "Tyler Krah\n",
    "Hannah Lasko\n",
    "Cassidy Murphy\n",
    "Kieran O'Sullivan\n",
    "Jacob Schwab\n",
    "Nicholas Shaffer\n",
    "Taylor Teitelbaum\n",
    "Alexis Throop\n",
    "Jonathan Wehner\n",
    "Noah Worthy\"\"\".split('\\n')\n",
    "\n",
    "class3 = \"\"\"Grant Clark\n",
    "Alec Ippolito\n",
    "Rebecca Nelson\n",
    "Sean Recktenwald\n",
    "Katelyn Spadavecchia\n",
    "Willem Trainor\"\"\".split('\\n')\n",
    "\n",
    "class4 = \"\"\"Zachary Avondo\n",
    "Alexander Barr\n",
    "Sarah Bergfelt\n",
    "Ante Bevanda\n",
    "Shawn Bliss\n",
    "Nicole Bohatch\n",
    "Burton Carbino\n",
    "Stephanie Connell\n",
    "Gian Cuchapin\n",
    "Tesean Ferguson\n",
    "Caitlin Greene\n",
    "Alexander Guy\n",
    "Aidan Hill\n",
    "Amanda Krueger\n",
    "Ryan Luca\n",
    "Emily McCarty\n",
    "Holly McGarvey\n",
    "Rachel Pardee\n",
    "Carley Reith\n",
    "Christopher Stack\"\"\".split('\\n')\n",
    "\n",
    "groups=[[class1], [class2], [class3], [class4]]\n",
    "classNames=[\"GAP1_1\", \"GAP1_2\", \"GAP1_3\", \"GAP1_4\"]\n",
    "fileName = GS.fileBase + \"All.txt\"\n",
    "if OP.isfile(fileName):\n",
    "    raise FileExistsError(f\"Do not overwrite {fileName}\")\n",
    "print(\"Writing file {}\".format(fileName))\n",
    "fp = open(fileName, 'w')\n",
    "fp.write(\"{}\\n\".format(len(classNames)))\n",
    "for (i,cN) in enumerate(classNames):\n",
    "    try:\n",
    "        if len(groups[i]):\n",
    "            fp.write(\"{}\\n\".format(cN))\n",
    "            fp.write(\"{}\\n\".format(len(groups[i])))\n",
    "            for gr in groups[i]:\n",
    "                for person in gr:\n",
    "                    fp.write(\"{}, \".format(person))\n",
    "                fp.write('\\n')\n",
    "    except:\n",
    "        print(\"EXCEPT: len(groups[{}]) = {}\".format(i, groups[i]))\n",
    "        pass\n",
    "fp.close()\n",
    "print(\"Done\")"
   ]
  }
 ],
 "metadata": {
  "anaconda-cloud": {},
  "kernelspec": {
   "display_name": "Python 3",
   "language": "python",
   "name": "python3"
  },
  "language_info": {
   "codemirror_mode": {
    "name": "ipython",
    "version": 3
   },
   "file_extension": ".py",
   "mimetype": "text/x-python",
   "name": "python",
   "nbconvert_exporter": "python",
   "pygments_lexer": "ipython3",
   "version": "3.7.4"
  }
 },
 "nbformat": 4,
 "nbformat_minor": 1
}
